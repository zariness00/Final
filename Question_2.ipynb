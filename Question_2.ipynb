{
 "cells": [
  {
   "cell_type": "markdown",
   "id": "f7038236",
   "metadata": {},
   "source": [
    "# K-Means Clustering"
   ]
  },
  {
   "cell_type": "code",
   "execution_count": 188,
   "id": "4bebf0ea",
   "metadata": {},
   "outputs": [],
   "source": [
    "# Importing library\n",
    "# Adding Preliminary Libraries\n",
    "\n",
    "import numpy as np\n",
    "import pandas as pd\n",
    "import matplotlib.pyplot as plt\n",
    "# %matplotlib inline\n",
    "from sklearn import datasets\n",
    "from sklearn.cluster import KMeans\n",
    "from kneed import KneeLocator\n",
    "from sklearn.model_selection import train_test_split\n",
    "from sklearn.linear_model import LogisticRegression\n",
    "from sklearn.decomposition import PCA"
   ]
  },
  {
   "cell_type": "code",
   "execution_count": 175,
   "id": "a89dea41",
   "metadata": {},
   "outputs": [
    {
     "data": {
      "text/html": [
       "<div>\n",
       "<style scoped>\n",
       "    .dataframe tbody tr th:only-of-type {\n",
       "        vertical-align: middle;\n",
       "    }\n",
       "\n",
       "    .dataframe tbody tr th {\n",
       "        vertical-align: top;\n",
       "    }\n",
       "\n",
       "    .dataframe thead th {\n",
       "        text-align: right;\n",
       "    }\n",
       "</style>\n",
       "<table border=\"1\" class=\"dataframe\">\n",
       "  <thead>\n",
       "    <tr style=\"text-align: right;\">\n",
       "      <th></th>\n",
       "      <th>alcohol</th>\n",
       "      <th>malic_acid</th>\n",
       "      <th>ash</th>\n",
       "      <th>alcalinity_of_ash</th>\n",
       "      <th>magnesium</th>\n",
       "      <th>total_phenols</th>\n",
       "      <th>flavanoids</th>\n",
       "      <th>nonflavanoid_phenols</th>\n",
       "      <th>proanthocyanins</th>\n",
       "      <th>color_intensity</th>\n",
       "      <th>hue</th>\n",
       "      <th>od280/od315_of_diluted_wines</th>\n",
       "      <th>proline</th>\n",
       "      <th>Type</th>\n",
       "    </tr>\n",
       "  </thead>\n",
       "  <tbody>\n",
       "    <tr>\n",
       "      <th>0</th>\n",
       "      <td>14.23</td>\n",
       "      <td>1.71</td>\n",
       "      <td>2.43</td>\n",
       "      <td>15.6</td>\n",
       "      <td>127.0</td>\n",
       "      <td>2.80</td>\n",
       "      <td>3.06</td>\n",
       "      <td>0.28</td>\n",
       "      <td>2.29</td>\n",
       "      <td>5.64</td>\n",
       "      <td>1.04</td>\n",
       "      <td>3.92</td>\n",
       "      <td>1065.0</td>\n",
       "      <td>0</td>\n",
       "    </tr>\n",
       "    <tr>\n",
       "      <th>1</th>\n",
       "      <td>13.20</td>\n",
       "      <td>1.78</td>\n",
       "      <td>2.14</td>\n",
       "      <td>11.2</td>\n",
       "      <td>100.0</td>\n",
       "      <td>2.65</td>\n",
       "      <td>2.76</td>\n",
       "      <td>0.26</td>\n",
       "      <td>1.28</td>\n",
       "      <td>4.38</td>\n",
       "      <td>1.05</td>\n",
       "      <td>3.40</td>\n",
       "      <td>1050.0</td>\n",
       "      <td>0</td>\n",
       "    </tr>\n",
       "    <tr>\n",
       "      <th>2</th>\n",
       "      <td>13.16</td>\n",
       "      <td>2.36</td>\n",
       "      <td>2.67</td>\n",
       "      <td>18.6</td>\n",
       "      <td>101.0</td>\n",
       "      <td>2.80</td>\n",
       "      <td>3.24</td>\n",
       "      <td>0.30</td>\n",
       "      <td>2.81</td>\n",
       "      <td>5.68</td>\n",
       "      <td>1.03</td>\n",
       "      <td>3.17</td>\n",
       "      <td>1185.0</td>\n",
       "      <td>0</td>\n",
       "    </tr>\n",
       "    <tr>\n",
       "      <th>3</th>\n",
       "      <td>14.37</td>\n",
       "      <td>1.95</td>\n",
       "      <td>2.50</td>\n",
       "      <td>16.8</td>\n",
       "      <td>113.0</td>\n",
       "      <td>3.85</td>\n",
       "      <td>3.49</td>\n",
       "      <td>0.24</td>\n",
       "      <td>2.18</td>\n",
       "      <td>7.80</td>\n",
       "      <td>0.86</td>\n",
       "      <td>3.45</td>\n",
       "      <td>1480.0</td>\n",
       "      <td>0</td>\n",
       "    </tr>\n",
       "    <tr>\n",
       "      <th>4</th>\n",
       "      <td>13.24</td>\n",
       "      <td>2.59</td>\n",
       "      <td>2.87</td>\n",
       "      <td>21.0</td>\n",
       "      <td>118.0</td>\n",
       "      <td>2.80</td>\n",
       "      <td>2.69</td>\n",
       "      <td>0.39</td>\n",
       "      <td>1.82</td>\n",
       "      <td>4.32</td>\n",
       "      <td>1.04</td>\n",
       "      <td>2.93</td>\n",
       "      <td>735.0</td>\n",
       "      <td>0</td>\n",
       "    </tr>\n",
       "  </tbody>\n",
       "</table>\n",
       "</div>"
      ],
      "text/plain": [
       "   alcohol  malic_acid   ash  alcalinity_of_ash  magnesium  total_phenols  \\\n",
       "0    14.23        1.71  2.43               15.6      127.0           2.80   \n",
       "1    13.20        1.78  2.14               11.2      100.0           2.65   \n",
       "2    13.16        2.36  2.67               18.6      101.0           2.80   \n",
       "3    14.37        1.95  2.50               16.8      113.0           3.85   \n",
       "4    13.24        2.59  2.87               21.0      118.0           2.80   \n",
       "\n",
       "   flavanoids  nonflavanoid_phenols  proanthocyanins  color_intensity   hue  \\\n",
       "0        3.06                  0.28             2.29             5.64  1.04   \n",
       "1        2.76                  0.26             1.28             4.38  1.05   \n",
       "2        3.24                  0.30             2.81             5.68  1.03   \n",
       "3        3.49                  0.24             2.18             7.80  0.86   \n",
       "4        2.69                  0.39             1.82             4.32  1.04   \n",
       "\n",
       "   od280/od315_of_diluted_wines  proline  Type  \n",
       "0                          3.92   1065.0     0  \n",
       "1                          3.40   1050.0     0  \n",
       "2                          3.17   1185.0     0  \n",
       "3                          3.45   1480.0     0  \n",
       "4                          2.93    735.0     0  "
      ]
     },
     "execution_count": 175,
     "metadata": {},
     "output_type": "execute_result"
    }
   ],
   "source": [
    "#Importing Dataset (Wine dataset) and creating Dataframe using Pandas\n",
    "\n",
    "wine = datasets.load_wine()\n",
    "wine_data = pd.DataFrame(wine.data)\n",
    "wine_data.columns = wine.feature_names\n",
    "wine_data['Type']=wine.target\n",
    "wine_data.head()"
   ]
  },
  {
   "cell_type": "code",
   "execution_count": 176,
   "id": "9654c141",
   "metadata": {},
   "outputs": [
    {
     "data": {
      "text/plain": [
       "array([[1.423e+01, 1.710e+00, 2.430e+00, ..., 1.040e+00, 3.920e+00,\n",
       "        1.065e+03],\n",
       "       [1.320e+01, 1.780e+00, 2.140e+00, ..., 1.050e+00, 3.400e+00,\n",
       "        1.050e+03],\n",
       "       [1.316e+01, 2.360e+00, 2.670e+00, ..., 1.030e+00, 3.170e+00,\n",
       "        1.185e+03],\n",
       "       ...,\n",
       "       [1.327e+01, 4.280e+00, 2.260e+00, ..., 5.900e-01, 1.560e+00,\n",
       "        8.350e+02],\n",
       "       [1.317e+01, 2.590e+00, 2.370e+00, ..., 6.000e-01, 1.620e+00,\n",
       "        8.400e+02],\n",
       "       [1.413e+01, 4.100e+00, 2.740e+00, ..., 6.100e-01, 1.600e+00,\n",
       "        5.600e+02]])"
      ]
     },
     "execution_count": 176,
     "metadata": {},
     "output_type": "execute_result"
    }
   ],
   "source": [
    "#Retreiving Independant variables from Data set to X\n",
    "wine_X = wine_data.drop('Type', axis=1)\n",
    "wine_X = np.array(wine_X)\n",
    "wine_X"
   ]
  },
  {
   "cell_type": "code",
   "execution_count": 177,
   "id": "ce20b7f7",
   "metadata": {},
   "outputs": [
    {
     "data": {
      "text/plain": [
       "array([0, 0, 0, 0, 0, 0, 0, 0, 0, 0, 0, 0, 0, 0, 0, 0, 0, 0, 0, 0, 0, 0,\n",
       "       0, 0, 0, 0, 0, 0, 0, 0, 0, 0, 0, 0, 0, 0, 0, 0, 0, 0, 0, 0, 0, 0,\n",
       "       0, 0, 0, 0, 0, 0, 0, 0, 0, 0, 0, 0, 0, 0, 0, 1, 1, 1, 1, 1, 1, 1,\n",
       "       1, 1, 1, 1, 1, 1, 1, 1, 1, 1, 1, 1, 1, 1, 1, 1, 1, 1, 1, 1, 1, 1,\n",
       "       1, 1, 1, 1, 1, 1, 1, 1, 1, 1, 1, 1, 1, 1, 1, 1, 1, 1, 1, 1, 1, 1,\n",
       "       1, 1, 1, 1, 1, 1, 1, 1, 1, 1, 1, 1, 1, 1, 1, 1, 1, 1, 1, 1, 2, 2,\n",
       "       2, 2, 2, 2, 2, 2, 2, 2, 2, 2, 2, 2, 2, 2, 2, 2, 2, 2, 2, 2, 2, 2,\n",
       "       2, 2, 2, 2, 2, 2, 2, 2, 2, 2, 2, 2, 2, 2, 2, 2, 2, 2, 2, 2, 2, 2,\n",
       "       2, 2])"
      ]
     },
     "execution_count": 177,
     "metadata": {},
     "output_type": "execute_result"
    }
   ],
   "source": [
    "#Now Retreiving Target Variable Type into Y\n",
    "wine_Y = wine_data.Type\n",
    "wine_Y = np.array(wine_Y)\n",
    "wine_Y"
   ]
  },
  {
   "cell_type": "code",
   "execution_count": 178,
   "id": "27195dfc",
   "metadata": {},
   "outputs": [
    {
     "data": {
      "text/plain": [
       "array([1, 1, 1, 1, 0, 1, 1, 1, 1, 1, 1, 1, 1, 1, 1, 1, 1, 1, 1, 0, 0, 0,\n",
       "       1, 1, 0, 0, 1, 1, 0, 1, 1, 1, 1, 1, 1, 0, 0, 1, 1, 0, 0, 1, 1, 0,\n",
       "       0, 1, 1, 1, 1, 1, 1, 1, 1, 1, 1, 1, 1, 1, 1, 2, 0, 2, 0, 2, 2, 0,\n",
       "       2, 2, 0, 0, 0, 2, 2, 1, 0, 2, 2, 2, 0, 2, 2, 0, 0, 2, 2, 2, 2, 2,\n",
       "       0, 0, 2, 2, 2, 2, 2, 0, 0, 2, 0, 2, 0, 2, 2, 2, 0, 2, 2, 2, 2, 0,\n",
       "       2, 2, 0, 2, 2, 2, 2, 2, 2, 2, 0, 2, 2, 2, 2, 2, 2, 2, 2, 2, 0, 2,\n",
       "       2, 0, 0, 0, 0, 2, 2, 2, 0, 0, 2, 2, 0, 0, 2, 0, 0, 2, 2, 2, 2, 0,\n",
       "       0, 0, 2, 0, 0, 0, 2, 0, 2, 0, 0, 2, 0, 0, 0, 0, 2, 2, 0, 0, 0, 0,\n",
       "       0, 2], dtype=int32)"
      ]
     },
     "execution_count": 178,
     "metadata": {},
     "output_type": "execute_result"
    }
   ],
   "source": [
    "#Implementing K-Means model on our Wine Dataset, Seting K (Cluster) size to 3\n",
    "\n",
    "kmeans = KMeans(n_clusters=3,n_init=10)\n",
    "Kmeans_Model = kmeans.fit(wine_X)\n",
    "Kmeans_Model.labels_"
   ]
  },
  {
   "cell_type": "code",
   "execution_count": 179,
   "id": "1992010e",
   "metadata": {},
   "outputs": [],
   "source": [
    "#Calculating SSE value for K\n",
    "\n",
    "kmeans_args = {\n",
    "    \"init\": \"random\",\n",
    "    \"n_init\": 10,\n",
    "    \"max_iter\": 300,\n",
    "    \"random_state\": 0,\n",
    "}\n",
    "\n",
    "SSE = []\n",
    "for k in range (1,11):\n",
    "    kmeans = KMeans(n_clusters=k, **kmeans_args)\n",
    "    kmeans.fit(wine_X)\n",
    "    SSE.append(kmeans.inertia_)"
   ]
  },
  {
   "cell_type": "code",
   "execution_count": 180,
   "id": "02d7b93e",
   "metadata": {
    "scrolled": true
   },
   "outputs": [
    {
     "data": {
      "text/plain": [
       "Text(0.5, 1.0, 'Elbow Method')"
      ]
     },
     "execution_count": 180,
     "metadata": {},
     "output_type": "execute_result"
    },
    {
     "data": {
      "image/png": "[encoded data removed]",
      "text/plain": [
       "<Figure size 432x288 with 1 Axes>"
      ]
     },
     "metadata": {
      "needs_background": "light"
     },
     "output_type": "display_data"
    }
   ],
   "source": [
    "# Ploting of SSE for elbow technique to determine value of K\n",
    "\n",
    "plt.plot(range(1, 11), SSE)\n",
    "plt.title('Elbow Method')\n"
   ]
  },
  {
   "cell_type": "code",
   "execution_count": 181,
   "id": "99a8f1d1",
   "metadata": {},
   "outputs": [
    {
     "name": "stdout",
     "output_type": "stream",
     "text": [
      "Using Elbow Technique we find out that K manually is 3\n"
     ]
    }
   ],
   "source": [
    "print(\"Using Elbow Technique we find out that K manually is 3\")"
   ]
  },
  {
   "cell_type": "code",
   "execution_count": 182,
   "id": "5e3c2cf8",
   "metadata": {},
   "outputs": [
    {
     "name": "stdout",
     "output_type": "stream",
     "text": [
      "Value of K using Elbow Technique Programmatically is 3\n"
     ]
    }
   ],
   "source": [
    "#Confriming Vlaue of K using Kneed methong to determine elbow bending point\n",
    "\n",
    "kneed_val = KneeLocator(\n",
    "    range(1, 11), SSE, curve=\"convex\", direction=\"decreasing\"\n",
    ")\n",
    "\n",
    "print(\"Value of K using Elbow Technique Programmatically is\", kneed_val.elbow)"
   ]
  },
  {
   "cell_type": "code",
   "execution_count": 183,
   "id": "5b093aba",
   "metadata": {},
   "outputs": [],
   "source": [
    "#Model Score splitting training and testing data\n",
    "\n",
    "X_train,X_test,y_train,y_test=train_test_split(wine_X,wine_Y,random_state=0)"
   ]
  },
  {
   "cell_type": "code",
   "execution_count": 185,
   "id": "9f2d4bb9",
   "metadata": {},
   "outputs": [
    {
     "name": "stdout",
     "output_type": "stream",
     "text": [
      "Model Score: 0.9777777777777777\n"
     ]
    }
   ],
   "source": [
    "#Using LogisticRegression \n",
    "\n",
    "logreg = LogisticRegression(max_iter=3000)\n",
    "\n",
    "# fit the model with data\n",
    "logreg = logreg.fit(X_train,y_train)\n",
    "\n",
    "y_pred=logreg.predict(X_test)\n",
    "\n",
    "print(\"Model Score:\",logreg.score(X_test,y_test))"
   ]
  },
  {
   "cell_type": "markdown",
   "id": "a2c7b0af",
   "metadata": {},
   "source": [
    "# Using PCA reducing the Model to 2 features"
   ]
  },
  {
   "cell_type": "code",
   "execution_count": 191,
   "id": "01414f35",
   "metadata": {},
   "outputs": [],
   "source": [
    "#Reducing Model to 2\n",
    "pca_2 = PCA(n_components=2)\n",
    "pca_2_result = pca_2.fit_transform(wine_X)\n",
    "# pca_2_result"
   ]
  },
  {
   "cell_type": "code",
   "execution_count": 192,
   "id": "cce05ceb",
   "metadata": {},
   "outputs": [
    {
     "data": {
      "text/plain": [
       "array([1, 1, 1, 1, 0, 1, 1, 1, 1, 1, 1, 1, 1, 1, 1, 1, 1, 1, 1, 0, 0, 0,\n",
       "       1, 1, 0, 0, 1, 1, 0, 1, 1, 1, 1, 1, 1, 0, 0, 1, 1, 0, 0, 1, 1, 0,\n",
       "       0, 1, 1, 1, 1, 1, 1, 1, 1, 1, 1, 1, 1, 1, 1, 2, 0, 2, 0, 2, 2, 0,\n",
       "       2, 2, 0, 0, 0, 2, 2, 1, 0, 2, 2, 2, 0, 2, 2, 0, 0, 2, 2, 2, 2, 2,\n",
       "       0, 0, 2, 2, 2, 2, 2, 0, 0, 2, 0, 2, 0, 2, 2, 2, 0, 2, 2, 2, 2, 0,\n",
       "       2, 2, 0, 2, 2, 2, 2, 2, 2, 2, 0, 2, 2, 2, 2, 2, 2, 2, 2, 2, 0, 2,\n",
       "       2, 0, 0, 0, 0, 2, 2, 2, 0, 0, 2, 2, 0, 0, 2, 0, 0, 2, 2, 2, 2, 0,\n",
       "       0, 0, 2, 0, 0, 0, 2, 0, 2, 0, 0, 2, 0, 0, 0, 0, 2, 2, 0, 0, 0, 0,\n",
       "       0, 2], dtype=int32)"
      ]
     },
     "execution_count": 192,
     "metadata": {},
     "output_type": "execute_result"
    }
   ],
   "source": [
    "#Implementing K-Means model on our Wine Dataset after PCA2, Seting K (Cluster) size to 3\n",
    "\n",
    "kmeans_PCA2 = KMeans(n_clusters=3,random_state=0)\n",
    "Kmeans_Model_PCA2 = kmeans_PCA2.fit(pca_2_result)\n",
    "Kmeans_Model_PCA2.labels_\n"
   ]
  },
  {
   "cell_type": "code",
   "execution_count": 193,
   "id": "e58da050",
   "metadata": {},
   "outputs": [],
   "source": [
    "#Calculating SSE value for K using PCA_Data\n",
    "\n",
    "kmeans_PCA2_args = {\n",
    "    \"init\": \"random\",\n",
    "    \"n_init\": 10,\n",
    "    \"max_iter\": 300,\n",
    "    \"random_state\": 0,\n",
    "}\n",
    "\n",
    "SSE_PCA2 = []\n",
    "for k  in range (1,11):\n",
    "    kmeans_PCA2 = KMeans(n_clusters=k, **kmeans_PCA2_args)\n",
    "    kmeans_PCA2.fit(pca_2_result)\n",
    "    SSE_PCA2.append(kmeans_PCA2.inertia_)"
   ]
  },
  {
   "cell_type": "code",
   "execution_count": 194,
   "id": "d6990d86",
   "metadata": {},
   "outputs": [
    {
     "data": {
      "text/plain": [
       "Text(0.5, 1.0, 'Elbow Method')"
      ]
     },
     "execution_count": 194,
     "metadata": {},
     "output_type": "execute_result"
    },
    {
     "data": {
      "image/png": "[encoded data removed]",
      "text/plain": [
       "<Figure size 432x288 with 1 Axes>"
      ]
     },
     "metadata": {
      "needs_background": "light"
     },
     "output_type": "display_data"
    }
   ],
   "source": [
    "# Ploting of SSE for elbow technique to determine value of K\n",
    "\n",
    "plt.plot(range(1, 11), SSE_PCA2)\n",
    "plt.title('Elbow Method')\n"
   ]
  },
  {
   "cell_type": "code",
   "execution_count": 195,
   "id": "c0a4b61c",
   "metadata": {},
   "outputs": [
    {
     "name": "stdout",
     "output_type": "stream",
     "text": [
      "Using Elbow Technique we find out that K manually is 3\n"
     ]
    }
   ],
   "source": [
    "print(\"Using Elbow Technique we find out that K manually is 3\")"
   ]
  },
  {
   "cell_type": "code",
   "execution_count": 196,
   "id": "9b567e79",
   "metadata": {},
   "outputs": [
    {
     "name": "stdout",
     "output_type": "stream",
     "text": [
      "Value of K using Elbow Technique Programmatically is 3\n"
     ]
    }
   ],
   "source": [
    "#Confriming Vlaue of K using Kneed methong to determine elbow bending point\n",
    "\n",
    "kneed_val = KneeLocator(\n",
    "    range(1, 11), SSE_PCA2, curve=\"convex\", direction=\"decreasing\"\n",
    ")\n",
    "\n",
    "print(\"Value of K using Elbow Technique Programmatically is\", kneed_val.elbow)"
   ]
  },
  {
   "cell_type": "code",
   "execution_count": 197,
   "id": "89fc4e8e",
   "metadata": {},
   "outputs": [],
   "source": [
    "#Model Score splitting training and testing data of PCA2\n",
    "\n",
    "X_train,X_test,y_train,y_test=train_test_split(pca_2_result,wine_Y,random_state=0)"
   ]
  },
  {
   "cell_type": "code",
   "execution_count": 198,
   "id": "5e94b6b4",
   "metadata": {},
   "outputs": [
    {
     "name": "stdout",
     "output_type": "stream",
     "text": [
      "Model Score with PCA2: 0.8222222222222222\n"
     ]
    }
   ],
   "source": [
    "#Using LogisticRegression \n",
    "\n",
    "logreg = LogisticRegression(max_iter=300)\n",
    "\n",
    "# fit the model with data\n",
    "logreg = logreg.fit(X_train,y_train)\n",
    "\n",
    "y_pred=logreg.predict(X_test)\n",
    "\n",
    "print(\"Model Score with PCA2:\",logreg.score(X_test,y_test))"
   ]
  },
  {
   "cell_type": "code",
   "execution_count": null,
   "id": "4a0a5aab",
   "metadata": {},
   "outputs": [],
   "source": []
  }
 ],
 "metadata": {
  "kernelspec": {
   "display_name": "Python 3 (ipykernel)",
   "language": "python",
   "name": "python3"
  },
  "language_info": {
   "codemirror_mode": {
    "name": "ipython",
    "version": 3
   },
   "file_extension": ".py",
   "mimetype": "text/x-python",
   "name": "python",
   "nbconvert_exporter": "python",
   "pygments_lexer": "ipython3",
   "version": "3.9.5"
  }
 },
 "nbformat": 4,
 "nbformat_minor": 5
}
